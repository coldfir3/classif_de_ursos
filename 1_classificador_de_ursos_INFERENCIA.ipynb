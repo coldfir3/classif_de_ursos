{
  "nbformat": 4,
  "nbformat_minor": 0,
  "metadata": {
    "colab": {
      "name": "1_classificador_de_ursos_INFERENCIA",
      "provenance": [],
      "collapsed_sections": []
    },
    "kernelspec": {
      "name": "python3",
      "display_name": "Python 3"
    },
    "widgets": {
      "application/vnd.jupyter.widget-state+json": {
        "903d88cb884648ed8a7fec094a3ba488": {
          "model_module": "@jupyter-widgets/controls",
          "model_name": "VBoxModel",
          "state": {
            "_view_name": "VBoxView",
            "_dom_classes": [],
            "_model_name": "VBoxModel",
            "_view_module": "@jupyter-widgets/controls",
            "_model_module_version": "1.5.0",
            "_view_count": null,
            "_view_module_version": "1.5.0",
            "box_style": "",
            "layout": "IPY_MODEL_6a18e18e82914b67a12a715a0c7125ed",
            "_model_module": "@jupyter-widgets/controls",
            "children": [
              "IPY_MODEL_519e0527015c4029beb703c742752f14",
              "IPY_MODEL_68df436b507345daaf340091b5aca026",
              "IPY_MODEL_05c66e8da2584855a3dd6a845cfcb8db",
              "IPY_MODEL_cce6f0d94ca34727bfedc29c4dedf060"
            ]
          }
        },
        "6a18e18e82914b67a12a715a0c7125ed": {
          "model_module": "@jupyter-widgets/base",
          "model_name": "LayoutModel",
          "state": {
            "_view_name": "LayoutView",
            "grid_template_rows": null,
            "right": null,
            "justify_content": null,
            "_view_module": "@jupyter-widgets/base",
            "overflow": null,
            "_model_module_version": "1.2.0",
            "_view_count": null,
            "flex_flow": null,
            "width": null,
            "min_width": null,
            "border": null,
            "align_items": null,
            "bottom": null,
            "_model_module": "@jupyter-widgets/base",
            "top": null,
            "grid_column": null,
            "overflow_y": null,
            "overflow_x": null,
            "grid_auto_flow": null,
            "grid_area": null,
            "grid_template_columns": null,
            "flex": null,
            "_model_name": "LayoutModel",
            "justify_items": null,
            "grid_row": null,
            "max_height": null,
            "align_content": null,
            "visibility": null,
            "align_self": null,
            "height": null,
            "min_height": null,
            "padding": null,
            "grid_auto_rows": null,
            "grid_gap": null,
            "max_width": null,
            "order": null,
            "_view_module_version": "1.2.0",
            "grid_template_areas": null,
            "object_position": null,
            "object_fit": null,
            "grid_auto_columns": null,
            "margin": null,
            "display": null,
            "left": null
          }
        },
        "519e0527015c4029beb703c742752f14": {
          "model_module": "@jupyter-widgets/controls",
          "model_name": "LabelModel",
          "state": {
            "_view_name": "LabelView",
            "style": "IPY_MODEL_be6088838b8145cd9631ed48bdf5c5b5",
            "_dom_classes": [],
            "description": "",
            "_model_name": "LabelModel",
            "placeholder": "​",
            "_view_module": "@jupyter-widgets/controls",
            "_model_module_version": "1.5.0",
            "value": "Select your bear!",
            "_view_count": null,
            "_view_module_version": "1.5.0",
            "description_tooltip": null,
            "_model_module": "@jupyter-widgets/controls",
            "layout": "IPY_MODEL_689aa7d4de6d49d29121f8633faf03f1"
          }
        },
        "68df436b507345daaf340091b5aca026": {
          "model_module": "@jupyter-widgets/controls",
          "model_name": "FileUploadModel",
          "state": {
            "_view_name": "FileUploadView",
            "_counter": 1,
            "style": "IPY_MODEL_d2374d2ba3684a0e9e7a404a6ea0d3d2",
            "_dom_classes": [],
            "description": "Upload",
            "multiple": false,
            "_model_name": "FileUploadModel",
            "data": [
              null
            ],
            "button_style": "",
            "_view_module": "@jupyter-widgets/controls",
            "_model_module_version": "1.5.0",
            "accept": "",
            "_view_count": null,
            "disabled": false,
            "_view_module_version": "1.5.0",
            "error": "",
            "description_tooltip": null,
            "metadata": [
              {
                "name": "Urso-Pardo-e1565011679446.jpg",
                "type": "image/jpeg",
                "size": 41209,
                "lastModified": 1615417624604
              }
            ],
            "_model_module": "@jupyter-widgets/controls",
            "layout": "IPY_MODEL_95a70f87dea44a6f9a99ae62491d3640",
            "icon": "upload"
          }
        },
        "05c66e8da2584855a3dd6a845cfcb8db": {
          "model_module": "@jupyter-widgets/output",
          "model_name": "OutputModel",
          "state": {
            "_view_name": "OutputView",
            "msg_id": "",
            "_dom_classes": [],
            "_model_name": "OutputModel",
            "outputs": [
              {
                "output_type": "display_data",
                "metadata": {
                  "tags": []
                },
                "image/png": "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\n",
                "text/plain": "<PIL.Image.Image image mode=RGB size=128x72 at 0x7F5FDC3AB850>"
              }
            ],
            "_view_module": "@jupyter-widgets/output",
            "_model_module_version": "1.0.0",
            "_view_count": null,
            "_view_module_version": "1.0.0",
            "layout": "IPY_MODEL_ed9b9a114b044cb7a53187fb39a849af",
            "_model_module": "@jupyter-widgets/output"
          }
        },
        "cce6f0d94ca34727bfedc29c4dedf060": {
          "model_module": "@jupyter-widgets/controls",
          "model_name": "LabelModel",
          "state": {
            "_view_name": "LabelView",
            "style": "IPY_MODEL_f5c89e9d015e411fab60a88237a54bbb",
            "_dom_classes": [],
            "description": "",
            "_model_name": "LabelModel",
            "placeholder": "​",
            "_view_module": "@jupyter-widgets/controls",
            "_model_module_version": "1.5.0",
            "value": "Isso é um 'grizzly' com 98.01% de certeza",
            "_view_count": null,
            "_view_module_version": "1.5.0",
            "description_tooltip": null,
            "_model_module": "@jupyter-widgets/controls",
            "layout": "IPY_MODEL_9983d849e2394a5e9035c77cc3f9b4cd"
          }
        },
        "be6088838b8145cd9631ed48bdf5c5b5": {
          "model_module": "@jupyter-widgets/controls",
          "model_name": "DescriptionStyleModel",
          "state": {
            "_view_name": "StyleView",
            "_model_name": "DescriptionStyleModel",
            "description_width": "",
            "_view_module": "@jupyter-widgets/base",
            "_model_module_version": "1.5.0",
            "_view_count": null,
            "_view_module_version": "1.2.0",
            "_model_module": "@jupyter-widgets/controls"
          }
        },
        "689aa7d4de6d49d29121f8633faf03f1": {
          "model_module": "@jupyter-widgets/base",
          "model_name": "LayoutModel",
          "state": {
            "_view_name": "LayoutView",
            "grid_template_rows": null,
            "right": null,
            "justify_content": null,
            "_view_module": "@jupyter-widgets/base",
            "overflow": null,
            "_model_module_version": "1.2.0",
            "_view_count": null,
            "flex_flow": null,
            "width": null,
            "min_width": null,
            "border": null,
            "align_items": null,
            "bottom": null,
            "_model_module": "@jupyter-widgets/base",
            "top": null,
            "grid_column": null,
            "overflow_y": null,
            "overflow_x": null,
            "grid_auto_flow": null,
            "grid_area": null,
            "grid_template_columns": null,
            "flex": null,
            "_model_name": "LayoutModel",
            "justify_items": null,
            "grid_row": null,
            "max_height": null,
            "align_content": null,
            "visibility": null,
            "align_self": null,
            "height": null,
            "min_height": null,
            "padding": null,
            "grid_auto_rows": null,
            "grid_gap": null,
            "max_width": null,
            "order": null,
            "_view_module_version": "1.2.0",
            "grid_template_areas": null,
            "object_position": null,
            "object_fit": null,
            "grid_auto_columns": null,
            "margin": null,
            "display": null,
            "left": null
          }
        },
        "d2374d2ba3684a0e9e7a404a6ea0d3d2": {
          "model_module": "@jupyter-widgets/controls",
          "model_name": "ButtonStyleModel",
          "state": {
            "_view_name": "StyleView",
            "_model_name": "ButtonStyleModel",
            "_view_module": "@jupyter-widgets/base",
            "_model_module_version": "1.5.0",
            "_view_count": null,
            "button_color": null,
            "font_weight": "",
            "_view_module_version": "1.2.0",
            "_model_module": "@jupyter-widgets/controls"
          }
        },
        "95a70f87dea44a6f9a99ae62491d3640": {
          "model_module": "@jupyter-widgets/base",
          "model_name": "LayoutModel",
          "state": {
            "_view_name": "LayoutView",
            "grid_template_rows": null,
            "right": null,
            "justify_content": null,
            "_view_module": "@jupyter-widgets/base",
            "overflow": null,
            "_model_module_version": "1.2.0",
            "_view_count": null,
            "flex_flow": null,
            "width": null,
            "min_width": null,
            "border": null,
            "align_items": null,
            "bottom": null,
            "_model_module": "@jupyter-widgets/base",
            "top": null,
            "grid_column": null,
            "overflow_y": null,
            "overflow_x": null,
            "grid_auto_flow": null,
            "grid_area": null,
            "grid_template_columns": null,
            "flex": null,
            "_model_name": "LayoutModel",
            "justify_items": null,
            "grid_row": null,
            "max_height": null,
            "align_content": null,
            "visibility": null,
            "align_self": null,
            "height": null,
            "min_height": null,
            "padding": null,
            "grid_auto_rows": null,
            "grid_gap": null,
            "max_width": null,
            "order": null,
            "_view_module_version": "1.2.0",
            "grid_template_areas": null,
            "object_position": null,
            "object_fit": null,
            "grid_auto_columns": null,
            "margin": null,
            "display": null,
            "left": null
          }
        },
        "f5c89e9d015e411fab60a88237a54bbb": {
          "model_module": "@jupyter-widgets/controls",
          "model_name": "DescriptionStyleModel",
          "state": {
            "_view_name": "StyleView",
            "_model_name": "DescriptionStyleModel",
            "description_width": "",
            "_view_module": "@jupyter-widgets/base",
            "_model_module_version": "1.5.0",
            "_view_count": null,
            "_view_module_version": "1.2.0",
            "_model_module": "@jupyter-widgets/controls"
          }
        },
        "9983d849e2394a5e9035c77cc3f9b4cd": {
          "model_module": "@jupyter-widgets/base",
          "model_name": "LayoutModel",
          "state": {
            "_view_name": "LayoutView",
            "grid_template_rows": null,
            "right": null,
            "justify_content": null,
            "_view_module": "@jupyter-widgets/base",
            "overflow": null,
            "_model_module_version": "1.2.0",
            "_view_count": null,
            "flex_flow": null,
            "width": null,
            "min_width": null,
            "border": null,
            "align_items": null,
            "bottom": null,
            "_model_module": "@jupyter-widgets/base",
            "top": null,
            "grid_column": null,
            "overflow_y": null,
            "overflow_x": null,
            "grid_auto_flow": null,
            "grid_area": null,
            "grid_template_columns": null,
            "flex": null,
            "_model_name": "LayoutModel",
            "justify_items": null,
            "grid_row": null,
            "max_height": null,
            "align_content": null,
            "visibility": null,
            "align_self": null,
            "height": null,
            "min_height": null,
            "padding": null,
            "grid_auto_rows": null,
            "grid_gap": null,
            "max_width": null,
            "order": null,
            "_view_module_version": "1.2.0",
            "grid_template_areas": null,
            "object_position": null,
            "object_fit": null,
            "grid_auto_columns": null,
            "margin": null,
            "display": null,
            "left": null
          }
        },
        "ed9b9a114b044cb7a53187fb39a849af": {
          "model_module": "@jupyter-widgets/base",
          "model_name": "LayoutModel",
          "state": {
            "_view_name": "LayoutView",
            "grid_template_rows": null,
            "right": null,
            "justify_content": null,
            "_view_module": "@jupyter-widgets/base",
            "overflow": null,
            "_model_module_version": "1.2.0",
            "_view_count": null,
            "flex_flow": null,
            "width": null,
            "min_width": null,
            "border": null,
            "align_items": null,
            "bottom": null,
            "_model_module": "@jupyter-widgets/base",
            "top": null,
            "grid_column": null,
            "overflow_y": null,
            "overflow_x": null,
            "grid_auto_flow": null,
            "grid_area": null,
            "grid_template_columns": null,
            "flex": null,
            "_model_name": "LayoutModel",
            "justify_items": null,
            "grid_row": null,
            "max_height": null,
            "align_content": null,
            "visibility": null,
            "align_self": null,
            "height": null,
            "min_height": null,
            "padding": null,
            "grid_auto_rows": null,
            "grid_gap": null,
            "max_width": null,
            "order": null,
            "_view_module_version": "1.2.0",
            "grid_template_areas": null,
            "object_position": null,
            "object_fit": null,
            "grid_auto_columns": null,
            "margin": null,
            "display": null,
            "left": null
          }
        }
      }
    }
  },
  "cells": [
    {
      "cell_type": "code",
      "metadata": {
        "id": "zo3ERh3Q00YA"
      },
      "source": [
        "# !pip install -Uqq fastbook\r\n",
        "# !pip install unrar"
      ],
      "execution_count": 63,
      "outputs": []
    },
    {
      "cell_type": "code",
      "metadata": {
        "id": "awWbDgUj0l9j"
      },
      "source": [
        "from fastai.vision.all import *\r\n",
        "from fastai.vision.widgets import *"
      ],
      "execution_count": 64,
      "outputs": []
    },
    {
      "cell_type": "code",
      "metadata": {
        "colab": {
          "base_uri": "https://localhost:8080/"
        },
        "id": "7xpBHN6u9lhD",
        "outputId": "58820f84-81c2-4ca4-e348-c729d279acfa"
      },
      "source": [
        "#!gdown --id '1HoMeDyj2WbLl-190zv_Ztkl7lfHrTahy'\r\n",
        "#!mv bear_book.pkl model.pkl\r\n",
        "!gdown --id '1QswnP03eyCXrSzQPaxOVDwZi-a16Wbue'\r\n",
        "!mv bear_my.pkl model.pkl"
      ],
      "execution_count": 80,
      "outputs": [
        {
          "output_type": "stream",
          "text": [
            "Downloading...\n",
            "From: https://drive.google.com/uc?id=1QswnP03eyCXrSzQPaxOVDwZi-a16Wbue\n",
            "To: /content/bear_my.pkl\n",
            "47.0MB [00:00, 70.5MB/s]\n"
          ],
          "name": "stdout"
        }
      ]
    },
    {
      "cell_type": "code",
      "metadata": {
        "id": "uPHVNwPP0z_A"
      },
      "source": [
        "path = Path()\r\n",
        "learn_inf = load_learner(path/'model.pkl', cpu=True)\r\n",
        "btn_upload = widgets.FileUpload()\r\n",
        "out_pl = widgets.Output()\r\n",
        "lbl_pred = widgets.Label()"
      ],
      "execution_count": 81,
      "outputs": []
    },
    {
      "cell_type": "code",
      "metadata": {
        "id": "FIPOacs12gcN"
      },
      "source": [
        "def on_click_classify(change):\r\n",
        "    img = PILImage.create(btn_upload.data[-1])\r\n",
        "    out_pl.clear_output()\r\n",
        "    with out_pl: display(img.to_thumb(128,128))\r\n",
        "    pred,pred_idx,probs = learn_inf.predict(img)\r\n",
        "    lbl_pred.value = f\"Isso é um '{pred}' com {probs[pred_idx]*100:.02f}% de certeza\"\r\n",
        "\r\n",
        "btn_upload.observe(on_click_classify, names = ['data'])"
      ],
      "execution_count": 82,
      "outputs": []
    },
    {
      "cell_type": "code",
      "metadata": {
        "colab": {
          "base_uri": "https://localhost:8080/",
          "height": 185,
          "referenced_widgets": [
            "903d88cb884648ed8a7fec094a3ba488",
            "6a18e18e82914b67a12a715a0c7125ed",
            "519e0527015c4029beb703c742752f14",
            "68df436b507345daaf340091b5aca026",
            "05c66e8da2584855a3dd6a845cfcb8db",
            "cce6f0d94ca34727bfedc29c4dedf060",
            "be6088838b8145cd9631ed48bdf5c5b5",
            "689aa7d4de6d49d29121f8633faf03f1",
            "d2374d2ba3684a0e9e7a404a6ea0d3d2",
            "95a70f87dea44a6f9a99ae62491d3640",
            "f5c89e9d015e411fab60a88237a54bbb",
            "9983d849e2394a5e9035c77cc3f9b4cd",
            "ed9b9a114b044cb7a53187fb39a849af"
          ]
        },
        "id": "PpEqnkUP3R9W",
        "outputId": "214f333a-9db0-4eb9-bf35-0b07fccb3a67"
      },
      "source": [
        "VBox([widgets.Label('Select your bear!'), \r\n",
        "      btn_upload, out_pl, lbl_pred])"
      ],
      "execution_count": 83,
      "outputs": [
        {
          "output_type": "display_data",
          "data": {
            "application/vnd.jupyter.widget-view+json": {
              "model_id": "903d88cb884648ed8a7fec094a3ba488",
              "version_minor": 0,
              "version_major": 2
            },
            "text/plain": [
              "VBox(children=(Label(value='Select your bear!'), FileUpload(value={}, description='Upload'), Output(), Label(v…"
            ]
          },
          "metadata": {
            "tags": []
          }
        },
        {
          "output_type": "display_data",
          "data": {
            "text/html": [
              ""
            ],
            "text/plain": [
              "<IPython.core.display.HTML object>"
            ]
          },
          "metadata": {
            "tags": []
          }
        }
      ]
    }
  ]
}