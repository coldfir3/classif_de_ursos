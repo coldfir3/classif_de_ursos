{
  "nbformat": 4,
  "nbformat_minor": 0,
  "metadata": {
    "colab": {
      "name": "1_classificador_de_ursos_INFERENCIA",
      "provenance": []
    },
    "kernelspec": {
      "name": "python3",
      "display_name": "Python 3"
    },
    "widgets": {
      "application/vnd.jupyter.widget-state+json": {
        "53212507d9e841efbec525069336d7f5": {
          "model_module": "@jupyter-widgets/controls",
          "model_name": "VBoxModel",
          "state": {
            "_view_name": "VBoxView",
            "_dom_classes": [],
            "_model_name": "VBoxModel",
            "_view_module": "@jupyter-widgets/controls",
            "_model_module_version": "1.5.0",
            "_view_count": null,
            "_view_module_version": "1.5.0",
            "box_style": "",
            "layout": "IPY_MODEL_1cc2624fcbda437bb127d931acb2f973",
            "_model_module": "@jupyter-widgets/controls",
            "children": [
              "IPY_MODEL_129ed144310d43368678e4966c5d4ecb",
              "IPY_MODEL_d9ccefa7907d48aea1f4f7f24279bd8a",
              "IPY_MODEL_83f76be367ce4ec08d6288ae961f70cb",
              "IPY_MODEL_4569c08e69f44aecb2d299da1e6f901f"
            ]
          }
        },
        "1cc2624fcbda437bb127d931acb2f973": {
          "model_module": "@jupyter-widgets/base",
          "model_name": "LayoutModel",
          "state": {
            "_view_name": "LayoutView",
            "grid_template_rows": null,
            "right": null,
            "justify_content": null,
            "_view_module": "@jupyter-widgets/base",
            "overflow": null,
            "_model_module_version": "1.2.0",
            "_view_count": null,
            "flex_flow": null,
            "width": null,
            "min_width": null,
            "border": null,
            "align_items": null,
            "bottom": null,
            "_model_module": "@jupyter-widgets/base",
            "top": null,
            "grid_column": null,
            "overflow_y": null,
            "overflow_x": null,
            "grid_auto_flow": null,
            "grid_area": null,
            "grid_template_columns": null,
            "flex": null,
            "_model_name": "LayoutModel",
            "justify_items": null,
            "grid_row": null,
            "max_height": null,
            "align_content": null,
            "visibility": null,
            "align_self": null,
            "height": null,
            "min_height": null,
            "padding": null,
            "grid_auto_rows": null,
            "grid_gap": null,
            "max_width": null,
            "order": null,
            "_view_module_version": "1.2.0",
            "grid_template_areas": null,
            "object_position": null,
            "object_fit": null,
            "grid_auto_columns": null,
            "margin": null,
            "display": null,
            "left": null
          }
        },
        "129ed144310d43368678e4966c5d4ecb": {
          "model_module": "@jupyter-widgets/controls",
          "model_name": "LabelModel",
          "state": {
            "_view_name": "LabelView",
            "style": "IPY_MODEL_40ad3c23490049d99e3b3e58772d5c74",
            "_dom_classes": [],
            "description": "",
            "_model_name": "LabelModel",
            "placeholder": "​",
            "_view_module": "@jupyter-widgets/controls",
            "_model_module_version": "1.5.0",
            "value": "Select your bear!",
            "_view_count": null,
            "_view_module_version": "1.5.0",
            "description_tooltip": null,
            "_model_module": "@jupyter-widgets/controls",
            "layout": "IPY_MODEL_357be468491540139ca6686ab46eb9a2"
          }
        },
        "d9ccefa7907d48aea1f4f7f24279bd8a": {
          "model_module": "@jupyter-widgets/controls",
          "model_name": "FileUploadModel",
          "state": {
            "_view_name": "FileUploadView",
            "_counter": 3,
            "style": "IPY_MODEL_d4168de40df64f12a58fc8fc27e7d5d2",
            "_dom_classes": [],
            "description": "Upload",
            "multiple": false,
            "_model_name": "FileUploadModel",
            "data": [
              null
            ],
            "button_style": "",
            "_view_module": "@jupyter-widgets/controls",
            "_model_module_version": "1.5.0",
            "accept": "",
            "_view_count": null,
            "disabled": false,
            "_view_module_version": "1.5.0",
            "error": "",
            "description_tooltip": null,
            "metadata": [
              {
                "name": "2c78cafcf14e11cd89ee24f992b6e081.jpg",
                "type": "image/jpeg",
                "size": 242515,
                "lastModified": 1615417487230
              }
            ],
            "_model_module": "@jupyter-widgets/controls",
            "layout": "IPY_MODEL_17654e0afca54e9497bc3c5d3a288022",
            "icon": "upload"
          }
        },
        "83f76be367ce4ec08d6288ae961f70cb": {
          "model_module": "@jupyter-widgets/output",
          "model_name": "OutputModel",
          "state": {
            "_view_name": "OutputView",
            "msg_id": "",
            "_dom_classes": [],
            "_model_name": "OutputModel",
            "outputs": [
              {
                "output_type": "display_data",
                "metadata": {
                  "tags": []
                },
                "image/png": "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\n",
                "text/plain": "<PIL.Image.Image image mode=RGB size=128x88 at 0x7F5FDD2B3B50>"
              }
            ],
            "_view_module": "@jupyter-widgets/output",
            "_model_module_version": "1.0.0",
            "_view_count": null,
            "_view_module_version": "1.0.0",
            "layout": "IPY_MODEL_a0ed548c9c664205aa7be258c595bb12",
            "_model_module": "@jupyter-widgets/output"
          }
        },
        "4569c08e69f44aecb2d299da1e6f901f": {
          "model_module": "@jupyter-widgets/controls",
          "model_name": "LabelModel",
          "state": {
            "_view_name": "LabelView",
            "style": "IPY_MODEL_76a90790f12b49389ecb9112cb649fe1",
            "_dom_classes": [],
            "description": "",
            "_model_name": "LabelModel",
            "placeholder": "​",
            "_view_module": "@jupyter-widgets/controls",
            "_model_module_version": "1.5.0",
            "value": "Isso é um 'grizzly' com 83.00% de certeza",
            "_view_count": null,
            "_view_module_version": "1.5.0",
            "description_tooltip": null,
            "_model_module": "@jupyter-widgets/controls",
            "layout": "IPY_MODEL_408d878f027e47db898d6eebea817f2e"
          }
        },
        "40ad3c23490049d99e3b3e58772d5c74": {
          "model_module": "@jupyter-widgets/controls",
          "model_name": "DescriptionStyleModel",
          "state": {
            "_view_name": "StyleView",
            "_model_name": "DescriptionStyleModel",
            "description_width": "",
            "_view_module": "@jupyter-widgets/base",
            "_model_module_version": "1.5.0",
            "_view_count": null,
            "_view_module_version": "1.2.0",
            "_model_module": "@jupyter-widgets/controls"
          }
        },
        "357be468491540139ca6686ab46eb9a2": {
          "model_module": "@jupyter-widgets/base",
          "model_name": "LayoutModel",
          "state": {
            "_view_name": "LayoutView",
            "grid_template_rows": null,
            "right": null,
            "justify_content": null,
            "_view_module": "@jupyter-widgets/base",
            "overflow": null,
            "_model_module_version": "1.2.0",
            "_view_count": null,
            "flex_flow": null,
            "width": null,
            "min_width": null,
            "border": null,
            "align_items": null,
            "bottom": null,
            "_model_module": "@jupyter-widgets/base",
            "top": null,
            "grid_column": null,
            "overflow_y": null,
            "overflow_x": null,
            "grid_auto_flow": null,
            "grid_area": null,
            "grid_template_columns": null,
            "flex": null,
            "_model_name": "LayoutModel",
            "justify_items": null,
            "grid_row": null,
            "max_height": null,
            "align_content": null,
            "visibility": null,
            "align_self": null,
            "height": null,
            "min_height": null,
            "padding": null,
            "grid_auto_rows": null,
            "grid_gap": null,
            "max_width": null,
            "order": null,
            "_view_module_version": "1.2.0",
            "grid_template_areas": null,
            "object_position": null,
            "object_fit": null,
            "grid_auto_columns": null,
            "margin": null,
            "display": null,
            "left": null
          }
        },
        "d4168de40df64f12a58fc8fc27e7d5d2": {
          "model_module": "@jupyter-widgets/controls",
          "model_name": "ButtonStyleModel",
          "state": {
            "_view_name": "StyleView",
            "_model_name": "ButtonStyleModel",
            "_view_module": "@jupyter-widgets/base",
            "_model_module_version": "1.5.0",
            "_view_count": null,
            "button_color": null,
            "font_weight": "",
            "_view_module_version": "1.2.0",
            "_model_module": "@jupyter-widgets/controls"
          }
        },
        "17654e0afca54e9497bc3c5d3a288022": {
          "model_module": "@jupyter-widgets/base",
          "model_name": "LayoutModel",
          "state": {
            "_view_name": "LayoutView",
            "grid_template_rows": null,
            "right": null,
            "justify_content": null,
            "_view_module": "@jupyter-widgets/base",
            "overflow": null,
            "_model_module_version": "1.2.0",
            "_view_count": null,
            "flex_flow": null,
            "width": null,
            "min_width": null,
            "border": null,
            "align_items": null,
            "bottom": null,
            "_model_module": "@jupyter-widgets/base",
            "top": null,
            "grid_column": null,
            "overflow_y": null,
            "overflow_x": null,
            "grid_auto_flow": null,
            "grid_area": null,
            "grid_template_columns": null,
            "flex": null,
            "_model_name": "LayoutModel",
            "justify_items": null,
            "grid_row": null,
            "max_height": null,
            "align_content": null,
            "visibility": null,
            "align_self": null,
            "height": null,
            "min_height": null,
            "padding": null,
            "grid_auto_rows": null,
            "grid_gap": null,
            "max_width": null,
            "order": null,
            "_view_module_version": "1.2.0",
            "grid_template_areas": null,
            "object_position": null,
            "object_fit": null,
            "grid_auto_columns": null,
            "margin": null,
            "display": null,
            "left": null
          }
        },
        "76a90790f12b49389ecb9112cb649fe1": {
          "model_module": "@jupyter-widgets/controls",
          "model_name": "DescriptionStyleModel",
          "state": {
            "_view_name": "StyleView",
            "_model_name": "DescriptionStyleModel",
            "description_width": "",
            "_view_module": "@jupyter-widgets/base",
            "_model_module_version": "1.5.0",
            "_view_count": null,
            "_view_module_version": "1.2.0",
            "_model_module": "@jupyter-widgets/controls"
          }
        },
        "408d878f027e47db898d6eebea817f2e": {
          "model_module": "@jupyter-widgets/base",
          "model_name": "LayoutModel",
          "state": {
            "_view_name": "LayoutView",
            "grid_template_rows": null,
            "right": null,
            "justify_content": null,
            "_view_module": "@jupyter-widgets/base",
            "overflow": null,
            "_model_module_version": "1.2.0",
            "_view_count": null,
            "flex_flow": null,
            "width": null,
            "min_width": null,
            "border": null,
            "align_items": null,
            "bottom": null,
            "_model_module": "@jupyter-widgets/base",
            "top": null,
            "grid_column": null,
            "overflow_y": null,
            "overflow_x": null,
            "grid_auto_flow": null,
            "grid_area": null,
            "grid_template_columns": null,
            "flex": null,
            "_model_name": "LayoutModel",
            "justify_items": null,
            "grid_row": null,
            "max_height": null,
            "align_content": null,
            "visibility": null,
            "align_self": null,
            "height": null,
            "min_height": null,
            "padding": null,
            "grid_auto_rows": null,
            "grid_gap": null,
            "max_width": null,
            "order": null,
            "_view_module_version": "1.2.0",
            "grid_template_areas": null,
            "object_position": null,
            "object_fit": null,
            "grid_auto_columns": null,
            "margin": null,
            "display": null,
            "left": null
          }
        },
        "a0ed548c9c664205aa7be258c595bb12": {
          "model_module": "@jupyter-widgets/base",
          "model_name": "LayoutModel",
          "state": {
            "_view_name": "LayoutView",
            "grid_template_rows": null,
            "right": null,
            "justify_content": null,
            "_view_module": "@jupyter-widgets/base",
            "overflow": null,
            "_model_module_version": "1.2.0",
            "_view_count": null,
            "flex_flow": null,
            "width": null,
            "min_width": null,
            "border": null,
            "align_items": null,
            "bottom": null,
            "_model_module": "@jupyter-widgets/base",
            "top": null,
            "grid_column": null,
            "overflow_y": null,
            "overflow_x": null,
            "grid_auto_flow": null,
            "grid_area": null,
            "grid_template_columns": null,
            "flex": null,
            "_model_name": "LayoutModel",
            "justify_items": null,
            "grid_row": null,
            "max_height": null,
            "align_content": null,
            "visibility": null,
            "align_self": null,
            "height": null,
            "min_height": null,
            "padding": null,
            "grid_auto_rows": null,
            "grid_gap": null,
            "max_width": null,
            "order": null,
            "_view_module_version": "1.2.0",
            "grid_template_areas": null,
            "object_position": null,
            "object_fit": null,
            "grid_auto_columns": null,
            "margin": null,
            "display": null,
            "left": null
          }
        }
      }
    }
  },
  "cells": [
    {
      "cell_type": "code",
      "metadata": {
        "colab": {
          "base_uri": "https://localhost:8080/"
        },
        "id": "zo3ERh3Q00YA",
        "outputId": "80afc563-9b5d-43a5-e16e-b74bbc67b019"
      },
      "source": [
        "# !pip install -Uqq fastbook"
      ],
      "execution_count": 1,
      "outputs": [
        {
          "output_type": "stream",
          "text": [
            "\u001b[K     |████████████████████████████████| 727kB 5.5MB/s \n",
            "\u001b[K     |████████████████████████████████| 51kB 3.7MB/s \n",
            "\u001b[K     |████████████████████████████████| 194kB 18.2MB/s \n",
            "\u001b[K     |████████████████████████████████| 1.2MB 17.9MB/s \n",
            "\u001b[K     |████████████████████████████████| 51kB 6.0MB/s \n",
            "\u001b[K     |████████████████████████████████| 61kB 6.6MB/s \n",
            "\u001b[K     |████████████████████████████████| 12.8MB 265kB/s \n",
            "\u001b[K     |████████████████████████████████| 776.8MB 17kB/s \n",
            "\u001b[31mERROR: torchtext 0.9.0 has requirement torch==1.8.0, but you'll have torch 1.7.1 which is incompatible.\u001b[0m\n",
            "\u001b[?25h"
          ],
          "name": "stdout"
        }
      ]
    },
    {
      "cell_type": "code",
      "metadata": {
        "id": "awWbDgUj0l9j"
      },
      "source": [
        "from fastai.vision.all import *\r\n",
        "from fastai.vision.widgets import *"
      ],
      "execution_count": 3,
      "outputs": []
    },
    {
      "cell_type": "code",
      "metadata": {
        "colab": {
          "base_uri": "https://localhost:8080/"
        },
        "id": "uPHVNwPP0z_A",
        "outputId": "67a53ae0-6ef1-4eff-ea4c-fd90ad62da8d"
      },
      "source": [
        "!gdown --id 1Y6RXSprj42AVsaAZvGQLxEXybIBy1g10\r\n",
        "path = Path()\r\n",
        "learn_inf = load_learner(path/'export.pkl', cpu=True)\r\n",
        "btn_upload = widgets.FileUpload()\r\n",
        "out_pl = widgets.Output()\r\n",
        "lbl_pred = widgets.Label()"
      ],
      "execution_count": 15,
      "outputs": [
        {
          "output_type": "stream",
          "text": [
            "Downloading...\n",
            "From: https://drive.google.com/uc?id=1Y6RXSprj42AVsaAZvGQLxEXybIBy1g10\n",
            "To: /content/export.pkl\n",
            "47.0MB [00:00, 150MB/s]\n"
          ],
          "name": "stdout"
        }
      ]
    },
    {
      "cell_type": "code",
      "metadata": {
        "id": "FIPOacs12gcN"
      },
      "source": [
        "def on_click_classify(change):\r\n",
        "    img = PILImage.create(btn_upload.data[-1])\r\n",
        "    out_pl.clear_output()\r\n",
        "    with out_pl: display(img.to_thumb(128,128))\r\n",
        "    pred,pred_idx,probs = learn_inf.predict(img)\r\n",
        "    lbl_pred.value = f\"Isso é um '{pred}' com {probs[pred_idx]*100:.02f}% de certeza\"\r\n",
        "\r\n",
        "btn_upload.observe(on_click_classify, names = ['data'])"
      ],
      "execution_count": 25,
      "outputs": []
    },
    {
      "cell_type": "code",
      "metadata": {
        "colab": {
          "base_uri": "https://localhost:8080/",
          "height": 201,
          "referenced_widgets": [
            "53212507d9e841efbec525069336d7f5",
            "1cc2624fcbda437bb127d931acb2f973",
            "129ed144310d43368678e4966c5d4ecb",
            "d9ccefa7907d48aea1f4f7f24279bd8a",
            "83f76be367ce4ec08d6288ae961f70cb",
            "4569c08e69f44aecb2d299da1e6f901f",
            "40ad3c23490049d99e3b3e58772d5c74",
            "357be468491540139ca6686ab46eb9a2",
            "d4168de40df64f12a58fc8fc27e7d5d2",
            "17654e0afca54e9497bc3c5d3a288022",
            "76a90790f12b49389ecb9112cb649fe1",
            "408d878f027e47db898d6eebea817f2e",
            "a0ed548c9c664205aa7be258c595bb12"
          ]
        },
        "id": "PpEqnkUP3R9W",
        "outputId": "8265a94b-f71a-4867-f8a2-d1238ec377fa"
      },
      "source": [
        "VBox([widgets.Label('Select your bear!'), \r\n",
        "      btn_upload, out_pl, lbl_pred])"
      ],
      "execution_count": 26,
      "outputs": [
        {
          "output_type": "display_data",
          "data": {
            "application/vnd.jupyter.widget-view+json": {
              "model_id": "53212507d9e841efbec525069336d7f5",
              "version_minor": 0,
              "version_major": 2
            },
            "text/plain": [
              "VBox(children=(Label(value='Select your bear!'), FileUpload(value={'Urso-Pardo-e1565011679446.jpg': {'metadata…"
            ]
          },
          "metadata": {
            "tags": []
          }
        },
        {
          "output_type": "display_data",
          "data": {
            "text/html": [
              ""
            ],
            "text/plain": [
              "<IPython.core.display.HTML object>"
            ]
          },
          "metadata": {
            "tags": []
          }
        }
      ]
    }
  ]
}